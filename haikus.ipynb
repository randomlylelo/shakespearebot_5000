{
 "cells": [
  {
   "cell_type": "code",
   "execution_count": 85,
   "id": "ce87122a",
   "metadata": {},
   "outputs": [],
   "source": [
    "from hw6_code_that_we_use import parse_observations, unsupervised_HMM, sample_sentence\n",
    "from nltk.corpus import cmudict\n",
    "import re\n",
    "import matplotlib.pyplot as plt\n",
    "import pandas as pd\n",
    "import numpy as np\n",
    "import random"
   ]
  },
  {
   "cell_type": "code",
   "execution_count": 86,
   "id": "9d32ea06",
   "metadata": {},
   "outputs": [
    {
     "name": "stderr",
     "output_type": "stream",
     "text": [
      "[nltk_data] Downloading package cmudict to /Users/acheron/nltk_data...\n",
      "[nltk_data]   Package cmudict is already up-to-date!\n"
     ]
    }
   ],
   "source": [
    "import nltk\n",
    "nltk.download('cmudict')\n",
    "\n",
    "# constants\n",
    "SYLLABLE_DICTIONARY_PATH = 'data/Syllable_dictionary.txt'\n",
    "SHAKESPEARE_DATA = 'data/shakespeare.txt'"
   ]
  },
  {
   "cell_type": "code",
   "execution_count": 87,
   "id": "31505b6b",
   "metadata": {},
   "outputs": [],
   "source": [
    "syllable_dict = {}\n",
    "with open(SYLLABLE_DICTIONARY_PATH, 'r') as f:\n",
    "    for line in f:\n",
    "        line = line.strip()\n",
    "\n",
    "        if line:\n",
    "            sentence = line.split(' ')\n",
    "            word = sentence[0]\n",
    "            syllable_dict[word] = sentence[1:]"
   ]
  },
  {
   "cell_type": "code",
   "execution_count": 88,
   "id": "fe51ad9c",
   "metadata": {},
   "outputs": [],
   "source": [
    "def has_digit(string):\n",
    "    return any(char.isdigit() for char in string)\n",
    "\n",
    "\n",
    "def remove_punctuation(string):\n",
    "    return re.sub(r'[^\\w\\s]', '', string)\n",
    "\n",
    "with open(SHAKESPEARE_DATA, 'r') as f:\n",
    "    all_data = f.readlines()\n",
    "    all_lines = list(filter(lambda line: not has_digit(line), all_data))\n",
    "\n",
    "    def clean_line(line):\n",
    "        words = line.split(' ')\n",
    "\n",
    "        words_no_punc = []\n",
    "\n",
    "        for word in words:\n",
    "            # Remove punctuation\n",
    "            words_no_punc.append(remove_punctuation(word).strip())\n",
    "\n",
    "        return words_no_punc\n",
    "\n",
    "    X = list(map(clean_line, all_lines))\n",
    "\n",
    "    X, X_map = parse_observations(X)"
   ]
  },
  {
   "cell_type": "code",
   "execution_count": 90,
   "id": "602cf18d",
   "metadata": {},
   "outputs": [
    {
     "name": "stderr",
     "output_type": "stream",
     "text": [
      "100%|███████████████████████████████████████████████████████████████████████████████████████████████████| 10/10 [00:30<00:00,  3.09s/it]\n"
     ]
    }
   ],
   "source": [
    "num_hidden_states = 10\n",
    "# more iters take a while\n",
    "N_iters = 10\n",
    "HMM = unsupervised_HMM(X, num_hidden_states, N_iters, seed=None)"
   ]
  },
  {
   "cell_type": "code",
   "execution_count": 91,
   "id": "9b401311",
   "metadata": {},
   "outputs": [],
   "source": [
    "def convert(lst):\n",
    "    return ([i for i in lst.split()])\n",
    "\n",
    "def sentenceSyllable(sent): #for haikus only\n",
    "    sentence = convert(sent)\n",
    "    syllables = 0\n",
    "    for word in sentence:\n",
    "        word = remove_punctuation(word)\n",
    "        if(word != ' '):  \n",
    "            if (word.lower() in syllable_dict) == False:\n",
    "                return 1000 #auto reject\n",
    "            \n",
    "            count = syllable_dict[word.lower()][0]\n",
    "            \n",
    "            \n",
    "            if 'E' in count:\n",
    "                count = int(count[1:])\n",
    "            else:\n",
    "                count = int(count)\n",
    "        else:\n",
    "            count = 0\n",
    "        \n",
    "            \n",
    "        syllables += count\n",
    "    \n",
    "    return syllables"
   ]
  },
  {
   "cell_type": "code",
   "execution_count": 102,
   "id": "2e993cb8",
   "metadata": {},
   "outputs": [],
   "source": [
    "def ShakespeareHaiku():\n",
    "    #print(\"Running: 0%\", end='\\r')\n",
    "    haiku = []\n",
    "    five = True\n",
    "    while five:\n",
    "        test = sample_sentence(HMM, X_map, n_words=random.randint(1, 5))\n",
    "        if sentenceSyllable(test) == 5:\n",
    "            five = False\n",
    "            haiku.append(test[:-3])\n",
    "    #print(\"Running: 33%\", end='\\r')\n",
    "    \n",
    "    seven = True\n",
    "    while seven:\n",
    "        test = sample_sentence(HMM, X_map, n_words=random.randint(1, 7))\n",
    "        if sentenceSyllable(test) == 7:\n",
    "            seven = False\n",
    "            haiku.append(test[:-3])            \n",
    "    #print(\"Running: 67%\", end='\\r')\n",
    "    \n",
    "    five = True\n",
    "    while five:\n",
    "        test = sample_sentence(HMM, X_map, n_words=random.randint(1, 5))\n",
    "        if sentenceSyllable(test) == 5:\n",
    "            five = False\n",
    "            haiku.append(test[:-3]+\".\")\n",
    "    #print(\"Done                    \", end='\\r')\n",
    "    #print()\n",
    "    #print()\n",
    "    \n",
    "    for i in range(3):\n",
    "        print(haiku[i])\n",
    "    \n",
    "    return haiku"
   ]
  },
  {
   "cell_type": "code",
   "execution_count": 104,
   "id": "dadd3e10",
   "metadata": {},
   "outputs": [
    {
     "name": "stdout",
     "output_type": "stream",
     "text": [
      "Lay to decay to\n",
      "Spirits in these it who most\n",
      "Graced themselves now.\n"
     ]
    },
    {
     "data": {
      "text/plain": [
       "['Lay to decay to', 'Spirits in these it who most', 'Graced themselves now.']"
      ]
     },
     "execution_count": 104,
     "metadata": {},
     "output_type": "execute_result"
    }
   ],
   "source": [
    "ShakespeareHaiku()"
   ]
  },
  {
   "cell_type": "code",
   "execution_count": null,
   "id": "e136f8b1",
   "metadata": {},
   "outputs": [],
   "source": []
  }
 ],
 "metadata": {
  "kernelspec": {
   "display_name": "Python 3 (ipykernel)",
   "language": "python",
   "name": "python3"
  },
  "language_info": {
   "codemirror_mode": {
    "name": "ipython",
    "version": 3
   },
   "file_extension": ".py",
   "mimetype": "text/x-python",
   "name": "python",
   "nbconvert_exporter": "python",
   "pygments_lexer": "ipython3",
   "version": "3.9.13"
  }
 },
 "nbformat": 4,
 "nbformat_minor": 5
}

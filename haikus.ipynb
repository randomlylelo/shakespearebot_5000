{
 "cells": [
  {
   "cell_type": "code",
   "execution_count": 19,
   "id": "c18cdc9f",
   "metadata": {},
   "outputs": [],
   "source": [
    "from hw6_code_that_we_use import parse_observations, unsupervised_HMM, sample_sentence\n",
    "from nltk.corpus import cmudict\n",
    "import re\n",
    "import matplotlib.pyplot as plt\n",
    "import pandas as pd\n",
    "import numpy as np\n",
    "import random"
   ]
  },
  {
   "cell_type": "code",
   "execution_count": 20,
   "id": "68719d2b",
   "metadata": {},
   "outputs": [
    {
     "name": "stderr",
     "output_type": "stream",
     "text": [
      "[nltk_data] Downloading package cmudict to /Users/acheron/nltk_data...\n",
      "[nltk_data]   Package cmudict is already up-to-date!\n"
     ]
    }
   ],
   "source": [
    "import nltk\n",
    "nltk.download('cmudict')\n",
    "\n",
    "# constants\n",
    "SYLLABLE_DICTIONARY_PATH = 'data/Syllable_dictionary.txt'\n",
    "SHAKESPEARE_DATA = 'data/shakespeare.txt'"
   ]
  },
  {
   "cell_type": "code",
   "execution_count": 21,
   "id": "07c4f64a",
   "metadata": {},
   "outputs": [],
   "source": [
    "syllable_dict = {}\n",
    "with open(SYLLABLE_DICTIONARY_PATH, 'r') as f:\n",
    "    for line in f:\n",
    "        line = line.strip()\n",
    "\n",
    "        if line:\n",
    "            sentence = line.split(' ')\n",
    "            word = sentence[0]\n",
    "            syllable_dict[word] = sentence[1:]"
   ]
  },
  {
   "cell_type": "code",
   "execution_count": 22,
   "id": "183e2b1c",
   "metadata": {},
   "outputs": [],
   "source": [
    "def has_digit(string):\n",
    "    return any(char.isdigit() for char in string)\n",
    "\n",
    "\n",
    "def remove_punctuation(string):\n",
    "    return re.sub(r'[^\\w\\s]', '', string)\n",
    "\n",
    "with open(SHAKESPEARE_DATA, 'r') as f:\n",
    "    all_data = f.readlines()\n",
    "    all_lines = list(filter(lambda line: not has_digit(line), all_data))\n",
    "\n",
    "    def clean_line(line):\n",
    "        words = line.split(' ')\n",
    "\n",
    "        words_no_punc = []\n",
    "\n",
    "        for word in words:\n",
    "            # Remove punctuation\n",
    "            words_no_punc.append(remove_punctuation(word).strip())\n",
    "\n",
    "        return words_no_punc\n",
    "\n",
    "    X = list(map(clean_line, all_lines))\n",
    "\n",
    "    X, X_map = parse_observations(X)"
   ]
  },
  {
   "cell_type": "code",
   "execution_count": 23,
   "id": "70e8676a",
   "metadata": {},
   "outputs": [
    {
     "name": "stderr",
     "output_type": "stream",
     "text": [
      "100%|███████████████████████████████████████████████████████████████████████████████████████████████████| 10/10 [00:30<00:00,  3.04s/it]"
     ]
    },
    {
     "name": "stdout",
     "output_type": "stream",
     "text": [
      "But from more your teeth rich seest our obsequious cause...\n",
      "Own some prove eyes for no broad my sacred the...\n",
      "Her me now doth thou every comfort blessed to i...\n",
      "Mine times of now when miscalled leave why far thee...\n",
      "Is sold chose doth divine i rain death you time...\n",
      "I you hate full can hated of so thy say...\n",
      "To and grew begins do art in is sight weeks...\n",
      "Art thou pencil shall stay ill cease mad joy it...\n",
      "Gold which dear that i certain that mens the eyes...\n",
      "Put from wide eye more tell taker mourning if pebbled...\n",
      "Since rather wrong where tomb thou say sightless alone me...\n",
      "Wilfully disease as daily strong when to as wert thy...\n",
      "Which more learn example and complexion will gate sick defence...\n",
      "Me to barren is my fresh doth to the lose...\n"
     ]
    },
    {
     "name": "stderr",
     "output_type": "stream",
     "text": [
      "\n"
     ]
    }
   ],
   "source": [
    "num_hidden_states = 10\n",
    "# more iters take a while\n",
    "N_iters = 10\n",
    "HMM = unsupervised_HMM(X, num_hidden_states, N_iters, seed=None)\n",
    "\n",
    "# %%\n",
    "# create sonnet\n",
    "for _ in range(14):\n",
    "  print(sample_sentence(HMM, X_map, n_words=10))"
   ]
  },
  {
   "cell_type": "code",
   "execution_count": 78,
   "id": "f19d704e",
   "metadata": {},
   "outputs": [],
   "source": [
    "def convert(lst):\n",
    "    return ([i for i in lst.split()])\n",
    "\n",
    "def sentenceSyllable(sent): #for haikus only\n",
    "    sentence = convert(sent)\n",
    "    syllables = 0\n",
    "    for word in sentence:\n",
    "        word = remove_punctuation(word)\n",
    "        if(word != ' '):  \n",
    "            if (word.lower() in syllable_dict) == False:\n",
    "                return 1000 #auto reject\n",
    "            \n",
    "            count = syllable_dict[word.lower()][0]\n",
    "            \n",
    "            \n",
    "            if 'E' in count:\n",
    "                count = int(count[1:])\n",
    "            else:\n",
    "                count = int(count)\n",
    "        else:\n",
    "            count = 0\n",
    "        \n",
    "            \n",
    "        syllables += count\n",
    "    \n",
    "    return syllables"
   ]
  },
  {
   "cell_type": "code",
   "execution_count": 83,
   "id": "a04fab9b",
   "metadata": {},
   "outputs": [],
   "source": [
    "def ShakespeareHaiku():\n",
    "    print(\"Running: 0%\", end='\\r')\n",
    "    haiku = []\n",
    "    five = True\n",
    "    while five:\n",
    "        test = sample_sentence(HMM, X_map, n_words=random.randint(1, 5))\n",
    "        if sentenceSyllable(test) == 5:\n",
    "            five = False\n",
    "            haiku.append(test[:-3])\n",
    "    print(\"Running: 33%\", end='\\r')\n",
    "    \n",
    "    seven = True\n",
    "    while seven:\n",
    "        test = sample_sentence(HMM, X_map, n_words=random.randint(1, 7))\n",
    "        if sentenceSyllable(test) == 7:\n",
    "            seven = False\n",
    "            haiku.append(test[:-3])            \n",
    "    print(\"Running: 67%\", end='\\r')\n",
    "    \n",
    "    five = True\n",
    "    while five:\n",
    "        test = sample_sentence(HMM, X_map, n_words=random.randint(1, 5))\n",
    "        if sentenceSyllable(test) == 5:\n",
    "            five = False\n",
    "            haiku.append(test[:-3]+\".\")\n",
    "    print(\"Done\", end='\\r')\n",
    "    print()\n",
    "    for i in range(3):\n",
    "        print(haiku[i])\n",
    "    \n",
    "    return haiku"
   ]
  },
  {
   "cell_type": "code",
   "execution_count": 84,
   "id": "394c1b84",
   "metadata": {},
   "outputs": [
    {
     "name": "stdout",
     "output_type": "stream",
     "text": [
      "Running: 0%\r",
      "Running: 33%\r",
      "Running: 67%\r",
      "Done\r\n",
      "Or love that excuse\n",
      "My prime mine antiquity\n",
      "Ocean all away.\n"
     ]
    },
    {
     "data": {
      "text/plain": [
       "['Or love that excuse', 'My prime mine antiquity', 'Ocean all away.']"
      ]
     },
     "execution_count": 84,
     "metadata": {},
     "output_type": "execute_result"
    }
   ],
   "source": [
    "ShakespeareHaiku()"
   ]
  },
  {
   "cell_type": "code",
   "execution_count": null,
   "id": "ca77614c",
   "metadata": {},
   "outputs": [],
   "source": []
  }
 ],
 "metadata": {
  "kernelspec": {
   "display_name": "Python 3 (ipykernel)",
   "language": "python",
   "name": "python3"
  },
  "language_info": {
   "codemirror_mode": {
    "name": "ipython",
    "version": 3
   },
   "file_extension": ".py",
   "mimetype": "text/x-python",
   "name": "python",
   "nbconvert_exporter": "python",
   "pygments_lexer": "ipython3",
   "version": "3.9.13"
  }
 },
 "nbformat": 4,
 "nbformat_minor": 5
}

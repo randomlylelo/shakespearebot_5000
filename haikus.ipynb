{
 "cells": [
  {
   "cell_type": "code",
   "execution_count": 107,
   "id": "113fc935",
   "metadata": {},
   "outputs": [],
   "source": [
    "from hw6_code_that_we_use import parse_observations, unsupervised_HMM, sample_sentence\n",
    "from nltk.corpus import cmudict\n",
    "import re\n",
    "import matplotlib.pyplot as plt\n",
    "import pandas as pd\n",
    "import numpy as np\n",
    "import random"
   ]
  },
  {
   "cell_type": "code",
   "execution_count": 116,
   "id": "f92f8a75",
   "metadata": {},
   "outputs": [
    {
     "ename": "SyntaxError",
     "evalue": "invalid syntax (955452716.py, line 7)",
     "output_type": "error",
     "traceback": [
      "\u001b[0;36m  Cell \u001b[0;32mIn[116], line 7\u001b[0;36m\u001b[0m\n\u001b[0;31m    sentence = [if(obs_map_r[i]!=' '): obs_map_r[i] for i in emission]\u001b[0m\n\u001b[0m                ^\u001b[0m\n\u001b[0;31mSyntaxError\u001b[0m\u001b[0;31m:\u001b[0m invalid syntax\n"
     ]
    }
   ],
   "source": [
    "def sample_sentence(hmm, obs_map, n_words=100, seed=None):\n",
    "    # Get reverse map.\n",
    "    obs_map_r = obs_map_reverser(obs_map)\n",
    "\n",
    "    # Sample and convert sentence.\n",
    "    emission, states = hmm.generate_emission(n_words, seed=seed)\n",
    "    sentence = [if(obs_map_r[i]!=' '): obs_map_r[i] for i in emission]\n",
    "\n",
    "\n",
    "    return ' '.join(sentence).capitalize()"
   ]
  },
  {
   "cell_type": "code",
   "execution_count": 108,
   "id": "06716e48",
   "metadata": {},
   "outputs": [
    {
     "name": "stderr",
     "output_type": "stream",
     "text": [
      "[nltk_data] Downloading package cmudict to /Users/acheron/nltk_data...\n",
      "[nltk_data]   Package cmudict is already up-to-date!\n"
     ]
    }
   ],
   "source": [
    "import nltk\n",
    "nltk.download('cmudict')\n",
    "\n",
    "# constants\n",
    "SYLLABLE_DICTIONARY_PATH = 'data/Syllable_dictionary.txt'\n",
    "SHAKESPEARE_DATA = 'data/shakespeare.txt'"
   ]
  },
  {
   "cell_type": "code",
   "execution_count": 109,
   "id": "8094de6a",
   "metadata": {},
   "outputs": [],
   "source": [
    "syllable_dict = {}\n",
    "with open(SYLLABLE_DICTIONARY_PATH, 'r') as f:\n",
    "    for line in f:\n",
    "        line = line.strip()\n",
    "\n",
    "        if line:\n",
    "            sentence = line.split(' ')\n",
    "            word = sentence[0]\n",
    "            syllable_dict[word] = sentence[1:]"
   ]
  },
  {
   "cell_type": "code",
   "execution_count": 110,
   "id": "dfbe72dd",
   "metadata": {},
   "outputs": [],
   "source": [
    "def has_digit(string):\n",
    "    return any(char.isdigit() for char in string)\n",
    "\n",
    "\n",
    "def remove_punctuation(string):\n",
    "    return re.sub(r'[^\\w\\s]', '', string)\n",
    "\n",
    "with open(SHAKESPEARE_DATA, 'r') as f:\n",
    "    all_data = f.readlines()\n",
    "    all_lines = list(filter(lambda line: not has_digit(line), all_data))\n",
    "\n",
    "    def clean_line(line):\n",
    "        words = line.split(' ')\n",
    "\n",
    "        words_no_punc = []\n",
    "\n",
    "        for word in words:\n",
    "            # Remove punctuation\n",
    "            words_no_punc.append(remove_punctuation(word).strip())\n",
    "\n",
    "        return words_no_punc\n",
    "\n",
    "    X = list(map(clean_line, all_lines))\n",
    "\n",
    "    X, X_map = parse_observations(X)"
   ]
  },
  {
   "cell_type": "code",
   "execution_count": 111,
   "id": "d1073624",
   "metadata": {},
   "outputs": [
    {
     "name": "stderr",
     "output_type": "stream",
     "text": [
      "100%|███████████████████████████████████████████████████████████████████████████████████████████████████| 10/10 [00:37<00:00,  3.72s/it]\n"
     ]
    }
   ],
   "source": [
    "num_hidden_states = 10\n",
    "# more iters take a while\n",
    "N_iters = 10\n",
    "HMM = unsupervised_HMM(X, num_hidden_states, N_iters, seed=None)"
   ]
  },
  {
   "cell_type": "code",
   "execution_count": 112,
   "id": "d93e683d",
   "metadata": {},
   "outputs": [],
   "source": [
    "def convert(lst):\n",
    "    return ([i for i in lst.split()])\n",
    "\n",
    "def sentenceSyllable(sent): #for haikus only\n",
    "    sentence = convert(sent)\n",
    "    syllables = 0\n",
    "    for word in sentence:\n",
    "        word = remove_punctuation(word)\n",
    "        if(word != ' '):  \n",
    "            if (word.lower() in syllable_dict) == False:\n",
    "                return 1000 #auto reject\n",
    "            \n",
    "            count = syllable_dict[word.lower()][0]\n",
    "            \n",
    "            \n",
    "            if 'E' in count:\n",
    "                count = int(count[1:])\n",
    "            else:\n",
    "                count = int(count)\n",
    "        else:\n",
    "            count = 0\n",
    "        \n",
    "            \n",
    "        syllables += count\n",
    "    \n",
    "    return syllables"
   ]
  },
  {
   "cell_type": "code",
   "execution_count": 113,
   "id": "3e06006a",
   "metadata": {},
   "outputs": [],
   "source": [
    "def ShakespeareHaiku():\n",
    "    #print(\"Running: 0%\", end='\\r')\n",
    "    haiku = []\n",
    "    five = True\n",
    "    while five:\n",
    "        test = sample_sentence(HMM, X_map, n_words=random.randint(1, 5))\n",
    "        if sentenceSyllable(test) == 5:\n",
    "            five = False\n",
    "            haiku.append(test[:-3])\n",
    "    #print(\"Running: 33%\", end='\\r')\n",
    "    \n",
    "    seven = True\n",
    "    while seven:\n",
    "        test = sample_sentence(HMM, X_map, n_words=random.randint(1, 7))\n",
    "        if sentenceSyllable(test) == 7:\n",
    "            seven = False\n",
    "            haiku.append(test[:-3])            \n",
    "    #print(\"Running: 67%\", end='\\r')\n",
    "    \n",
    "    five = True\n",
    "    while five:\n",
    "        test = sample_sentence(HMM, X_map, n_words=random.randint(1, 5))\n",
    "        if sentenceSyllable(test) == 5:\n",
    "            five = False\n",
    "            haiku.append(test[:-3]+\".\")\n",
    "    #print(\"Done                    \", end='\\r')\n",
    "    #print()\n",
    "    #print()\n",
    "    \n",
    "    for i in range(3):\n",
    "        print(haiku[i])\n",
    "    \n",
    "    return haiku"
   ]
  },
  {
   "cell_type": "code",
   "execution_count": 115,
   "id": "6f5b3d23",
   "metadata": {
    "scrolled": true
   },
   "outputs": [
    {
     "name": "stdout",
     "output_type": "stream",
     "text": [
      "Eye love worse to thee\n",
      " to which old defects might o\n",
      "The to fickle were.\n"
     ]
    },
    {
     "data": {
      "text/plain": [
       "['Eye love worse to thee',\n",
       " ' to which old defects might o',\n",
       " 'The to fickle were.']"
      ]
     },
     "execution_count": 115,
     "metadata": {},
     "output_type": "execute_result"
    }
   ],
   "source": [
    "ShakespeareHaiku()"
   ]
  },
  {
   "cell_type": "markdown",
   "id": "77eafba1",
   "metadata": {},
   "source": []
  }
 ],
 "metadata": {
  "kernelspec": {
   "display_name": "Python 3 (ipykernel)",
   "language": "python",
   "name": "python3"
  },
  "language_info": {
   "codemirror_mode": {
    "name": "ipython",
    "version": 3
   },
   "file_extension": ".py",
   "mimetype": "text/x-python",
   "name": "python",
   "nbconvert_exporter": "python",
   "pygments_lexer": "ipython3",
   "version": "3.9.13"
  }
 },
 "nbformat": 4,
 "nbformat_minor": 5
}
